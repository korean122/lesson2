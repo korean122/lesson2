{
 "cells": [
  {
   "cell_type": "markdown",
   "id": "9319c12d",
   "metadata": {},
   "source": [
    "### Домашнее задание к лекции \"Основы Python\""
   ]
  },
  {
   "cell_type": "markdown",
   "id": "ccce97ad",
   "metadata": {},
   "source": [
    "## Задание 1\n",
    "Даны две переменных, в которых хранятся строки произвольной длины: phrase_1 и phrase_2.\n",
    "Напишите код, который проверяет какая из этих строк длиннее.\n",
    "<br> Примеры работы программы:\n",
    "<br> * phrase_1 = 'Насколько проще было бы писать программы, если бы не заказчики'\n",
    "<br> * phrase_2 = '640Кб должно хватить для любых задач. Билл Гейтс (по легенде)'\n",
    "<br> Результат: Фраза 1 длиннее фразы 2\n",
    "\n",
    "<br> *\"phrase_1 = '640Кб должно хватить для любых задач. Билл Гейтс (по легенде)'\n",
    "<br> *\"phrase_2 = 'Насколько проще было бы писать программы, если бы не заказчики'\n",
    "<br> Результат: Фраза 2 длиннее фразы 1\n",
    "\n",
    "<br> * phrase_1 = 'Насколько проще было бы писать программы, если бы не заказчики'\n",
    "<br> *\"phrase_2\" = 'Насколько проще было бы писать программы, если бы не заказчики'\n",
    "<br> Результат: Фразы равной длины"
   ]
  },
  {
   "cell_type": "markdown",
   "id": "014a3649",
   "metadata": {},
   "source": [
    "### Решение"
   ]
  },
  {
   "cell_type": "code",
   "execution_count": 62,
   "id": "3621ca03",
   "metadata": {},
   "outputs": [
    {
     "name": "stdout",
     "output_type": "stream",
     "text": [
      "введите первую фразу ежик\n",
      "Вы ввели  фразу: ежик в ней - 4 символов\n",
      "введите вторую фразу пыжик\n",
      "Вы ввели вторую фразу: пыжик в ней - 5 символов\n"
     ]
    }
   ],
   "source": [
    "phrase_1 = input('введите первую фразу ')\n",
    "print ('Вы ввели  фразу:', phrase_1, \"в ней -\", len (phrase_1), \"символов\")\n",
    "phrase_2 = input('введите вторую фразу ')\n",
    "print ('Вы ввели вторую фразу:', phrase_2, \"в ней -\", len (phrase_2), \"символов\")"
   ]
  },
  {
   "cell_type": "code",
   "execution_count": 64,
   "id": "c4473071",
   "metadata": {},
   "outputs": [
    {
     "name": "stdout",
     "output_type": "stream",
     "text": [
      "Результат: Фраза 2 длиннее фразы 1\n"
     ]
    }
   ],
   "source": [
    "if len (phrase_1) > len (phrase_2):\n",
    "    print ('Результат: Фраза 1 длиннее фразы 2')\n",
    "elif len (phrase_1) == len (phrase_2):\n",
    "    print ('Результат: Фраза равной длины')\n",
    "else: \n",
    "    print ('Результат: Фраза 2 длиннее фразы 1')"
   ]
  },
  {
   "cell_type": "markdown",
   "id": "ab894abd",
   "metadata": {},
   "source": [
    "## Задание 2¶\n",
    "Дана переменная, в которой хранится четырехзначное число (год). Необходимо написать программу, которая выведет, является ли данный год високосным или обычным.\n",
    "<br> Пример работы программы:\n",
    "<br> year = 2020\n",
    "<br> Результат: Високосный год\n",
    "<br> year = 2019 Результат: Обычный год"
   ]
  },
  {
   "cell_type": "markdown",
   "id": "ecf8aae8",
   "metadata": {},
   "source": [
    "### Решение"
   ]
  },
  {
   "cell_type": "code",
   "execution_count": 254,
   "id": "ff80e906",
   "metadata": {},
   "outputs": [
    {
     "name": "stdout",
     "output_type": "stream",
     "text": [
      "Пожалуйста укажите год: 2020\n",
      "Вы указали: 2020 год\n"
     ]
    }
   ],
   "source": [
    "while True: #оператор бесконечного цикла. Работает в связке с командой break. Создается чтобы в случае значения false требование ввода повторялось\n",
    "    year = input(\"Пожалуйста укажите год: \")\n",
    "    if year.isnumeric() and len(year) == 4:\n",
    "        print ('Вы указали:', year, 'год')\n",
    "        break\n",
    "    else:\n",
    "        print ('Год должен состоять из 4 цифр. Попробуйте еще раз...')\n",
    "year = int(year) #так как значение input имеет тип str, для дальнейшей работы его надо изменить на int"
   ]
  },
  {
   "cell_type": "code",
   "execution_count": 255,
   "id": "c28d2631",
   "metadata": {},
   "outputs": [
    {
     "name": "stdout",
     "output_type": "stream",
     "text": [
      "\u001b[1;31m 2020 - Високосный год\n"
     ]
    }
   ],
   "source": [
    "if((year % 4) == 0) or ((year % 100) == 0) or ((year % 400) == 0): \n",
    "    print('\\033[1;31m', year, '- Високосный год')  #\\033 признак форматирования, 1 - жирный, 31 - красный, m - конец\n",
    "else: \n",
    "    print('\\033[2;34m', year, '- Обычный год')"
   ]
  },
  {
   "cell_type": "markdown",
   "id": "b1f55419",
   "metadata": {},
   "source": [
    "## Задание 3\n",
    "Необходимо написать программу, которая будет запрашивать у пользователя месяц и дату рождения и выводить соответствующий знак зодиака.\n",
    "<br> Пример работы программы:\n",
    "- Введите день: 30\n",
    "- Введите месяц: Август\n",
    "<br> Результат: Ваш знак зодиака: Дева\n",
    "- Введите день: 29\n",
    "- Введите месяц: Октябрь\n",
    "<br> Результат: Ваш знак зодиака: Скорпион"
   ]
  },
  {
   "cell_type": "markdown",
   "id": "999ca7fa",
   "metadata": {},
   "source": [
    "### Решение"
   ]
  },
  {
   "cell_type": "code",
   "execution_count": 24,
   "id": "3028dc2b",
   "metadata": {},
   "outputs": [
    {
     "name": "stdout",
     "output_type": "stream",
     "text": [
      "укажите дату рождения: 11\n"
     ]
    }
   ],
   "source": [
    "while True:\n",
    "    date = input(\"укажите дату рождения: \")\n",
    "    if date.isnumeric() and len(date) == 2:\n",
    "        break\n",
    "    else:\n",
    "        print ('дата должна состоять из 2 цифр. Попробуйте еще раз...')\n",
    "date = int(date)"
   ]
  },
  {
   "cell_type": "code",
   "execution_count": null,
   "id": "123670f1",
   "metadata": {},
   "outputs": [],
   "source": [
    "while True:\n",
    "    months = input(\"укажите месяц рождения: \")\n",
    "    if months.isnumeric() and len(months) == 2:\n",
    "        break\n",
    "    else:\n",
    "        print ('дата должна состоять из 2 цифр. Попробуйте еще раз...')\n",
    "months = int(months)"
   ]
  },
  {
   "cell_type": "markdown",
   "id": "6e061600",
   "metadata": {},
   "source": [
    "### Проблема\n",
    "Решение с вводом месяца, на мой взгляд, совершенно неоптимальное и неправильное, оно работает, но от безысходности.\n",
    "На мой взгляд, выбор названия месяца должен быть либо из выпадающего списка, либо автоматически вытаскиваться из даты, т.е. пользователь вводит дату рождения, а python достает оттуда соответствующий номер месяца, но по условию задачи пользователю надо а) ввести дату б) ввести месяц буквами. К тому же, на начальном этапе, видимо решения надо придумывать не используя подключаемые модули типа calendar или datetime."
   ]
  },
  {
   "cell_type": "code",
   "execution_count": 25,
   "id": "fa842852",
   "metadata": {},
   "outputs": [
    {
     "name": "stdout",
     "output_type": "stream",
     "text": [
      "введите название месяца: июля\n",
      "\u001b[1;31m Вы допустили ошибку при написании месяца -  июля - укажите одно из следующих значений: январь, февраль, март, апрель, май, июнь, июль, август, сентябрь. октябрь, ноябрь, декабрь\n",
      "введите название месяца: июль\n"
     ]
    }
   ],
   "source": [
    "while True:\n",
    "    month = input(\"введите название месяца: \")\n",
    "    if (month) == \"январь\" or (month) == \"февраль\" or (month) == \"март\" or (month) == \"апрель\" or (month) == \"май\" or (month) == \"июнь\" or (month) == \"июль\" or (month) == \"август\" or (month) == \"сентябрь\" or (month) == \"октябрь\" or (month) == \"ноябрь\" or (month) == \"декабрь\":\n",
    "        break\n",
    "    else:\n",
    "        print ('\\033[1;31m', \"Вы допустили ошибку при написании месяца - \", month, '- укажите одно из следующих значений: январь, февраль, март, апрель, май, июнь, июль, август, сентябрь. октябрь, ноябрь, декабрь')"
   ]
  },
  {
   "cell_type": "code",
   "execution_count": 26,
   "id": "eaacd08f",
   "metadata": {},
   "outputs": [
    {
     "name": "stdout",
     "output_type": "stream",
     "text": [
      "7\n"
     ]
    }
   ],
   "source": [
    "if (month) == \"январь\":\n",
    "   montdh_number = 1\n",
    "elif (month) == \"февраль\":\n",
    "   montdh_number = 2\n",
    "elif (month) == \"март\":\n",
    "   montdh_number = 3\n",
    "elif (month) == \"апрель\":\n",
    "   montdh_number = 4\n",
    "elif (month) == \"май\":\n",
    "   montdh_number = 5\n",
    "elif (month) == \"июнь\":\n",
    "   montdh_number = 6\n",
    "elif (month) == \"июль\":\n",
    "   montdh_number = 7\n",
    "elif (month) == \"август\":\n",
    "   montdh_number = 8\n",
    "elif (month) == \"сентябрь\":\n",
    "   montdh_number = 9\n",
    "elif (month) == \"октябрь\":\n",
    "   montdh_number = 10\n",
    "elif (month) == \"ноябрь\":\n",
    "   montdh_number = 11\n",
    "elif (month) == \"декабрь\":\n",
    "   montdh_number = 12\n",
    "else:\n",
    "    print (\"Вы допустили ошибку при написании месяца\")\n",
    "print (montdh_number)"
   ]
  },
  {
   "cell_type": "code",
   "execution_count": 27,
   "id": "6acb5a64",
   "metadata": {},
   "outputs": [
    {
     "name": "stdout",
     "output_type": "stream",
     "text": [
      "Знак зодиака:Рак\n"
     ]
    }
   ],
   "source": [
    "if (date>=21 and date<=31 and montdh_number==3) or( montdh_number==4 and date>=1 and date<=19):\n",
    "   print(\"Знак зодиака:Овен\")\n",
    "elif (date>=20 and date<=30 and montdh_number==4) or( montdh_number==5 and date>=1 and date<=20):\n",
    "   print(\"Знак зодиака:Телец\")\n",
    "elif (date>=21 and date<=31 and montdh_number==5) or( montdh_number==6 and date>=1 and date<=21):\n",
    "   print(\"Знак зодиака:Близнецы\")\n",
    "elif (date>=22 and date<=30 and montdh_number==6) or( montdh_number==7 and date>=1 and date<=22):\n",
    "   print(\"Знак зодиака:Рак\")\n",
    "elif (date>=23 and date<=31 and montdh_number==7) or( montdh_number==8 and date>=1 and date<=22):\n",
    "   print(\"Знак зодиака:Лев\")\n",
    "elif (date>=23 and date<=31 and montdh_number==8) or( montdh_number==9 and date>=1 and date<=22):\n",
    "   print(\"Знак зодиака:Дева\")\n",
    "elif (date>=23 and date<=30 and montdh_number==9) or( montdh_number==10 and date>=1 and date<=23):\n",
    "   print(\"Знак зодиака:Весы\")\n",
    "elif (date>=24 and date<=31 and montdh_number==10) or( montdh_number==11 and date>=1 and date<=22):\n",
    "   print(\"Знак зодиака:Скорпион\")\n",
    "elif (date>=23 and date<=30 and montdh_number==11) or( montdh_number==12 and date>=1 and date<=21):\n",
    "   print(\"Знак зодиака:Стрелец\")\n",
    "elif (date>=22 and date<=31 and montdh_number==12) or( montdh_number==1 and date>=1 and date<=20):\n",
    "   print(\"Знак зодиака:Козерог\")\n",
    "elif (date>=21 and date<=31 and montdh_number==1) or( momontdh_numbernth==2 and date>=1 and date<=18):\n",
    "   print(\"Знак зодиака:Водолей\")\n",
    "elif (date>=19 and date<=29 and montdh_number==2) or( montdh_number==3 and date>=1 and date<=20):\n",
    "   print(\"Знак зодиака:Рыбы\")"
   ]
  },
  {
   "cell_type": "markdown",
   "id": "b7175f30",
   "metadata": {},
   "source": [
    "## Задание 4\n",
    "Вам нужно написать программу для подбора упаковок по размерам товара. Размеры (ширина, длина, высота) хранятся в переменных (в сантиметрах):\n",
    "Используйте следующие правила:\n",
    "* если каждое из трех измерений менее 15 сантиметров, то выведите на экран \"Коробка №1\";\n",
    "* если хотя бы одно из измерений больше 15 сантиметров, но менее 50 сантиметров, то выводите \"Коробка №2\";\n",
    "* если длина товара больше 2 метров, то выводите \"Упаковка для лыж\";\n",
    "* во всех остальных случаях выводите \"Стандартная коробка №3\".\n",
    "<br> Пример работы программы:\n",
    "- width = 15\n",
    "- length = 50\n",
    "- height = 15\n",
    "<br> Результат: Стандартная коробка №3\n",
    "- width = 45\n",
    "- length = 205\n",
    "- height = 45\n",
    "<br> Результат: Ищите упаковку для лыж"
   ]
  },
  {
   "cell_type": "markdown",
   "id": "595046cb",
   "metadata": {},
   "source": [
    "### Решение"
   ]
  },
  {
   "cell_type": "markdown",
   "id": "af61aefd",
   "metadata": {},
   "source": [
    "## Задание 5 (необязательное)\n",
    "Дана переменная, в которой хранится шестизначное число (номер проездного билета). Напишите программу, которая будет определять, является ли данный билет \"счастливым\". Билет считается счастливым, если сумма первых трех цифр совпадает с суммой последних трех цифр номера.\n",
    "<br> Примеры работы программы:\n",
    "- number = 123456\n",
    "<br> Результат: Несчастливый билет\n",
    "- number = 123321\n",
    "<br> Результат: Счастливый билет"
   ]
  },
  {
   "cell_type": "markdown",
   "id": "ccc88291",
   "metadata": {},
   "source": [
    "### Решение"
   ]
  },
  {
   "cell_type": "markdown",
   "id": "5e583a3b",
   "metadata": {},
   "source": [
    "## Задание 6 (необязательное)\n",
    "Напишите программу, которая сможет вычислять площади трех фигур (круг, треугольник и прямоугольник). Тип фигуры запрашиваем через пользовательский ввод, после чего делаем запрос характеристик фигуры:\n",
    "- если пользователь выбрал круг, запрашиваем его радиус,\n",
    "- если треугольник – длины трех его сторон;\n",
    "- если прямоугольник – длины двух его сторон.\n",
    "<br> Пример работы программы:\n",
    "* Введите тип фигуры: Круг\n",
    "* Введите радиус круга: 10\n",
    "<br> Результат: Площадь круга: 314.16\n",
    "* Введите тип фигуры: Треугольник\n",
    "* Введите длину стороны A: 2\n",
    "* Введите длину стороны B: 2\n",
    "* Введите длину стороны C: 3\n",
    "<br> Результат: Площадь треугольника: 1.98"
   ]
  },
  {
   "cell_type": "markdown",
   "id": "ae04dacf",
   "metadata": {},
   "source": [
    "### Решение"
   ]
  }
 ],
 "metadata": {
  "kernelspec": {
   "display_name": "Python 3",
   "language": "python",
   "name": "python3"
  },
  "language_info": {
   "codemirror_mode": {
    "name": "ipython",
    "version": 3
   },
   "file_extension": ".py",
   "mimetype": "text/x-python",
   "name": "python",
   "nbconvert_exporter": "python",
   "pygments_lexer": "ipython3",
   "version": "3.8.8"
  }
 },
 "nbformat": 4,
 "nbformat_minor": 5
}
