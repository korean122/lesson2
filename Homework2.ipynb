{
 "cells": [
  {
   "cell_type": "markdown",
   "id": "eb5dbdf0",
   "metadata": {},
   "source": [
    "### Домашнее задание к лекции \"Основы Python\""
   ]
  },
  {
   "cell_type": "markdown",
   "id": "2caaf8b3",
   "metadata": {},
   "source": [
    "## Задание 1\n",
    "Даны две переменных, в которых хранятся строки произвольной длины: phrase_1 и phrase_2.\n",
    "Напишите код, который проверяет какая из этих строк длиннее.\n",
    "<br> Примеры работы программы:\n",
    "<br> * phrase_1 = 'Насколько проще было бы писать программы, если бы не заказчики'\n",
    "<br> * phrase_2 = '640Кб должно хватить для любых задач. Билл Гейтс (по легенде)'\n",
    "<br> Результат: Фраза 1 длиннее фразы 2\n",
    "\n",
    "<br> *\"phrase_1 = '640Кб должно хватить для любых задач. Билл Гейтс (по легенде)'\n",
    "<br> *\"phrase_2 = 'Насколько проще было бы писать программы, если бы не заказчики'\n",
    "<br> Результат: Фраза 2 длиннее фразы 1\n",
    "\n",
    "<br> * phrase_1 = 'Насколько проще было бы писать программы, если бы не заказчики'\n",
    "<br> *\"phrase_2\" = 'Насколько проще было бы писать программы, если бы не заказчики'\n",
    "<br> Результат: Фразы равной длины"
   ]
  },
  {
   "cell_type": "code",
   "execution_count": 62,
   "id": "97ecbf9d",
   "metadata": {},
   "outputs": [
    {
     "name": "stdout",
     "output_type": "stream",
     "text": [
      "введите первую фразу ежик\n",
      "Вы ввели  фразу: ежик в ней - 4 символов\n",
      "введите вторую фразу пыжик\n",
      "Вы ввели вторую фразу: пыжик в ней - 5 символов\n"
     ]
    }
   ],
   "source": [
    "phrase_1 = input('введите первую фразу ')\n",
    "print ('Вы ввели  фразу:', phrase_1, \"в ней -\", len (phrase_1), \"символов\")\n",
    "phrase_2 = input('введите вторую фразу ')\n",
    "print ('Вы ввели вторую фразу:', phrase_2, \"в ней -\", len (phrase_2), \"символов\")"
   ]
  },
  {
   "cell_type": "code",
   "execution_count": 64,
   "id": "13aecd74",
   "metadata": {},
   "outputs": [
    {
     "name": "stdout",
     "output_type": "stream",
     "text": [
      "Результат: Фраза 2 длиннее фразы 1\n"
     ]
    }
   ],
   "source": [
    "if len (phrase_1) > len (phrase_2):\n",
    "    print ('Результат: Фраза 1 длиннее фразы 2')\n",
    "elif len (phrase_1) == len (phrase_2):\n",
    "    print ('Результат: Фраза равной длины')\n",
    "else: \n",
    "    print ('Результат: Фраза 2 длиннее фразы 1')"
   ]
  },
  {
   "cell_type": "markdown",
   "id": "61c6bdfc",
   "metadata": {},
   "source": []
  }
 ],
 "metadata": {
  "kernelspec": {
   "display_name": "Python 3",
   "language": "python",
   "name": "python3"
  },
  "language_info": {
   "codemirror_mode": {
    "name": "ipython",
    "version": 3
   },
   "file_extension": ".py",
   "mimetype": "text/x-python",
   "name": "python",
   "nbconvert_exporter": "python",
   "pygments_lexer": "ipython3",
   "version": "3.8.8"
  }
 },
 "nbformat": 4,
 "nbformat_minor": 5
}
